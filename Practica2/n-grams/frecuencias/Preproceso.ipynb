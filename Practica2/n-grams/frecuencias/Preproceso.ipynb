{
 "cells": [
  {
   "cell_type": "code",
   "execution_count": 1,
   "metadata": {},
   "outputs": [],
   "source": [
    "import pandas as pd\n"
   ]
  },
  {
   "cell_type": "code",
   "execution_count": 2,
   "metadata": {},
   "outputs": [],
   "source": [
    "def preprocesar(nombre_archivo, nombre_generar):\n",
    "        df = pd.read_csv(nombre_archivo, delimiter=\" \", names=[\"n_gram\", \"prob\"])\n",
    "        \n",
    "        total = df[\"prob\"].sum()\n",
    "\n",
    "        df[\"prob\"] = df[\"prob\"].apply(lambda x : x / total)\n",
    "        \n",
    "        df.to_csv(nombre_generar, sep=\" \", index=False, header=False)"
   ]
  },
  {
   "cell_type": "code",
   "execution_count": null,
   "metadata": {},
   "outputs": [],
   "source": [
    "preprocesar(\"english_quadgrams.txt\", \"cuatrigramas.txt\")\n"
   ]
  },
  {
   "cell_type": "code",
   "execution_count": null,
   "metadata": {},
   "outputs": [],
   "source": [
    "preprocesar(\"english_words.txt\", \"palabras.txt\")"
   ]
  }
 ],
 "metadata": {
  "kernelspec": {
   "display_name": "Python 3",
   "language": "python",
   "name": "python3"
  },
  "language_info": {
   "codemirror_mode": {
    "name": "ipython",
    "version": 3
   },
   "file_extension": ".py",
   "mimetype": "text/x-python",
   "name": "python",
   "nbconvert_exporter": "python",
   "pygments_lexer": "ipython3",
   "version": "3.7.4"
  }
 },
 "nbformat": 4,
 "nbformat_minor": 4
}
